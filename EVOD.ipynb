{
 "cells": [
  {
   "cell_type": "code",
   "execution_count": 20,
   "id": "bd874937",
   "metadata": {},
   "outputs": [
    {
     "name": "stdout",
     "output_type": "stream",
     "text": [
      "Enter the first name: Himanshu\n",
      "Enter the second name: Zeel\n",
      "Himanshu and Zeel met in the forest\n",
      "Enter the number of coins found: 100\n",
      "Himanshu and Zeel met in the forest and found 100 coins \n",
      "We both got equally: Himanshu got 50 coins and Zeel got 50 coins but give me yours too.even num.\n"
     ]
    }
   ],
   "source": [
    "nm1 = str(input(\"Enter the first name: \"))\n",
    "nm2 = str(input(\"Enter the second name: \"))\n",
    "print(nm1 + \" and \" + nm2 + \" met in the forest\")\n",
    "\n",
    "VM = int(input(\"Enter the number of coins found: \"))\n",
    "print(nm1 + \" and \" + nm2 + \" met in the forest and found \" + str(VM) + \" coins \")\n",
    "\n",
    "if VM % 2 == 0:\n",
    "    coins_each = VM // 2\n",
    "    print(f\"We both got equally: {nm1} got {coins_each} coins and {nm2} got {coins_each} coins but give me yours too.even num.\")\n",
    "else:\n",
    "    coins_nm1 = VM // 2\n",
    "    coins_nm2 = VM - coins_nm1\n",
    "    print(f\"{nm1} got {coins_nm1} coins and {nm2} got {coins_nm2} coins. It's okay, you can take it.odd num.\")"
   ]
  },
  {
   "cell_type": "code",
   "execution_count": 21,
   "id": "3ad6d85a",
   "metadata": {},
   "outputs": [
    {
     "name": "stdout",
     "output_type": "stream",
     "text": [
      "Enter the first name: Himanshu\n",
      "Enter the second name: Zeel\n",
      "Himanshu and Zeel met in the forest\n",
      "Enter the number of coins found: 50\n",
      "Himanshu and Zeel met in the forest and found 50 coins \n",
      "We both got equally: Himanshu got 25 coins and Zeel got 25 coins but give me yours too.even num.\n"
     ]
    }
   ],
   "source": [
    "nm1 = str(input(\"Enter the first name: \"))\n",
    "nm2 = str(input(\"Enter the second name: \"))\n",
    "print(nm1 + \" and \" + nm2 + \" met in the forest\")\n",
    "\n",
    "VM = int(input(\"Enter the number of coins found: \"))\n",
    "print(nm1 + \" and \" + nm2 + \" met in the forest and found \" + str(VM) + \" coins \")\n",
    "\n",
    "coins_each = VM // 2\n",
    "message = (\n",
    "    f\"We both got equally: {nm1} got {coins_each} coins and {nm2} got {coins_each} coins but give me yours too.even num.\"\n",
    "    if VM % 2 == 0\n",
    "    else f\"{nm1} got {coins_each} coins and {nm2} got {VM - coins_each} coins. It's okay, you can take it.odd num.\"\n",
    ")\n",
    "\n",
    "print(message)"
   ]
  },
  {
   "cell_type": "code",
   "execution_count": null,
   "id": "e566a659",
   "metadata": {},
   "outputs": [],
   "source": []
  }
 ],
 "metadata": {
  "kernelspec": {
   "display_name": "Python 3 (ipykernel)",
   "language": "python",
   "name": "python3"
  },
  "language_info": {
   "codemirror_mode": {
    "name": "ipython",
    "version": 3
   },
   "file_extension": ".py",
   "mimetype": "text/x-python",
   "name": "python",
   "nbconvert_exporter": "python",
   "pygments_lexer": "ipython3",
   "version": "3.11.5"
  }
 },
 "nbformat": 4,
 "nbformat_minor": 5
}
